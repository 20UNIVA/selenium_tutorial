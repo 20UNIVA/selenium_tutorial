{
 "cells": [
  {
   "cell_type": "markdown",
   "id": "879da346-9443-4bb3-924b-2efa10dcbc26",
   "metadata": {},
   "source": [
    "### selenium 패키지 가져오기 "
   ]
  },
  {
   "cell_type": "code",
   "execution_count": null,
   "id": "fbe5d5da-db9e-4389-a521-af7852f68016",
   "metadata": {
    "tags": []
   },
   "outputs": [],
   "source": [
    "from bs4 import BeautifulSoup\n",
    "from selenium import webdriver\n",
    "# import undetected_chromedriver as webdriver\n",
    "from selenium.webdriver import ActionChains\n",
    "from selenium.webdriver.common.keys import Keys\n",
    "from selenium.webdriver.common.by import By\n",
    "from selenium.webdriver.chrome.service import Service as ChromeService\n",
    "from selenium.webdriver.chrome.options import Options\n",
    "from webdriver_manager.chrome import ChromeDriverManager\n",
    "from selenium.common.exceptions import NoSuchElementException\n",
    "from selenium.webdriver.support.ui import WebDriverWait\n",
    "from selenium.webdriver.support import expected_conditions as EC\n",
    "import time\n",
    "from dataclasses import dataclass, asdict\n",
    "import json"
   ]
  },
  {
   "cell_type": "markdown",
   "id": "e5fc33ff-d297-40d7-a007-564320352e99",
   "metadata": {},
   "source": [
    "### 드라이버 옵션 설정"
   ]
  },
  {
   "cell_type": "code",
   "execution_count": null,
   "id": "b6a2b0cf-e728-4b2e-bd17-327fa558ba66",
   "metadata": {
    "tags": []
   },
   "outputs": [],
   "source": [
    "options = webdriver.ChromeOptions()\n",
    "options = Options()\n",
    "### headless 모드 옵션\n",
    "# options.add_argument('no-sandbox')\n",
    "# options.add_argument('disable-dev-shm-usage')\n",
    "# options.add_argument('headless')\n",
    "# options.add_argument('disable-gpu')\n",
    "### 세션 정보 저장 옵션(로그인 정보 등 페이지 기록 유지)\n",
    "# chrome_profile_dir = 'my_session'\n",
    "# options.add_argument(f'--user-data-dir={chrome_profile_dir}/')\n",
    "driver = webdriver.Chrome(\n",
    "    service=ChromeService(executable_path=ChromeDriverManager().install()),\n",
    "    options=options\n",
    ")"
   ]
  },
  {
   "cell_type": "markdown",
   "id": "6c17064c-a83f-4cb3-ab0e-01f16951186d",
   "metadata": {},
   "source": [
    "## youtube 스크립트 가져오기 "
   ]
  },
  {
   "cell_type": "code",
   "execution_count": null,
   "id": "f8a4a584-09ad-4241-9b77-d8047053fa40",
   "metadata": {
    "tags": []
   },
   "outputs": [],
   "source": [
    "driver.get('https://www.youtube.com/watch?v=vUmnCnGSIfA') #  ##나라장터 어떻게 사용하는 걸까? \"나라장터 사용자 이용 가이드\"\n",
    "driver.implicitly_wait(10)"
   ]
  },
  {
   "cell_type": "code",
   "execution_count": null,
   "id": "45720b49-e0a1-4d9b-97b5-b84ac6141b28",
   "metadata": {
    "scrolled": true,
    "tags": []
   },
   "outputs": [],
   "source": [
    "button_path = '#movie_player > div.ytp-chrome-bottom > div.ytp-chrome-controls > div.ytp-left-controls > button'\n",
    "play_button = driver.find_element(By.CSS_SELECTOR, button_path)\n",
    "play_button.send_keys(Keys.ENTER)"
   ]
  },
  {
   "cell_type": "code",
   "execution_count": null,
   "id": "2396fc8e-be7e-45e3-900e-82358944da5c",
   "metadata": {
    "tags": []
   },
   "outputs": [],
   "source": [
    "driver.find_element(By.CSS_SELECTOR, '#button-shape > button > yt-touch-feedback-shape > div > div.yt-spec-touch-feedback-shape__fill').click()\n",
    "driver.find_element(By.CSS_SELECTOR, '#items > ytd-menu-service-item-renderer > tp-yt-paper-item').click()\n",
    "time.sleep(1)"
   ]
  },
  {
   "cell_type": "code",
   "execution_count": null,
   "id": "de6ec2f8-52ac-459e-805f-111fd57ba283",
   "metadata": {
    "tags": []
   },
   "outputs": [],
   "source": [
    "segments_container = driver.find_element(By.CSS_SELECTOR, '#segments-container')"
   ]
  },
  {
   "cell_type": "code",
   "execution_count": null,
   "id": "60dd5b44-c791-44c4-b183-50e1b7a13b87",
   "metadata": {
    "tags": []
   },
   "outputs": [],
   "source": [
    "segelem_list = segments_container.find_elements(By.XPATH, '//ytd-transcript-segment-renderer')\n",
    "len(segelem_list)"
   ]
  },
  {
   "cell_type": "code",
   "execution_count": null,
   "id": "58dca13d-2ae0-4d17-855c-31e81b7437ae",
   "metadata": {
    "tags": []
   },
   "outputs": [],
   "source": [
    "@dataclass\n",
    "class ScriptItem:\n",
    "    timestamp: str\n",
    "    text: str"
   ]
  },
  {
   "cell_type": "code",
   "execution_count": null,
   "id": "be75664e-e986-49bb-8546-aa1ee8e122d4",
   "metadata": {
    "scrolled": true,
    "tags": []
   },
   "outputs": [],
   "source": [
    "script_list = []\n",
    "for seg in segelem_list:\n",
    "    # print(seg.text)\n",
    "    e={}\n",
    "    si = seg.text.find('\\n')\n",
    "    timestamp = seg.text[:si]\n",
    "    text = seg.text[si+1:]\n",
    "    # timestamp = seg.find_element(By.CLASS_NAME, 'segment-timestamp').text\n",
    "    # text = seg.find_element(By.CLASS_NAME, 'segment-text').text\n",
    "    # timestamp = seg.find_element(By.XPATH, '//div/div/div').text\n",
    "    # text = seg.find_element(By.XPATH, '//div/yt-formatted-string').text\n",
    "    e = ScriptItem(timestamp=timestamp, text=text)\n",
    "    script_list.append(e)\n",
    "    print(e)"
   ]
  },
  {
   "cell_type": "markdown",
   "id": "e6b97307-f49d-4d5c-9ae2-c5b066ffe8ff",
   "metadata": {},
   "source": [
    "### 스크립트 파일 저장"
   ]
  },
  {
   "cell_type": "code",
   "execution_count": null,
   "id": "f7a34b25-9e2b-49b8-806f-884a266b6a52",
   "metadata": {
    "tags": []
   },
   "outputs": [],
   "source": [
    "dict_list = [asdict(e) for e in script_list]"
   ]
  },
  {
   "cell_type": "code",
   "execution_count": null,
   "id": "adbe939b-b851-4858-b4fd-809ffce26fa6",
   "metadata": {
    "tags": []
   },
   "outputs": [],
   "source": [
    "json_filename = 'script.json'\n",
    "with open(json_filename, 'w', encoding='utf-8') as f:\n",
    "    json.dump(dict_list, f, indent=4,ensure_ascii=False)"
   ]
  },
  {
   "cell_type": "markdown",
   "id": "e3c8d771-22df-44d8-800b-e5752ed488e1",
   "metadata": {},
   "source": [
    "### driver 닫기"
   ]
  },
  {
   "cell_type": "code",
   "execution_count": null,
   "id": "af6467c0-6772-4f87-80f8-7a95a1e19cbd",
   "metadata": {
    "tags": []
   },
   "outputs": [],
   "source": [
    "driver.quit()"
   ]
  },
  {
   "cell_type": "code",
   "execution_count": null,
   "id": "41d3d7ff-2080-4179-9bb5-c02aa087c30f",
   "metadata": {},
   "outputs": [],
   "source": []
  }
 ],
 "metadata": {
  "kernelspec": {
   "display_name": "selenium",
   "language": "python",
   "name": "selenium"
  },
  "language_info": {
   "codemirror_mode": {
    "name": "ipython",
    "version": 3
   },
   "file_extension": ".py",
   "mimetype": "text/x-python",
   "name": "python",
   "nbconvert_exporter": "python",
   "pygments_lexer": "ipython3",
   "version": "3.9.16"
  }
 },
 "nbformat": 4,
 "nbformat_minor": 5
}
